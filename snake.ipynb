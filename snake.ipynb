{
 "cells": [
  {
   "cell_type": "code",
   "execution_count": 1,
   "id": "environmental-scheduling",
   "metadata": {},
   "outputs": [],
   "source": [
    "import numpy as np\n",
    "import os,keyboard,time,threading\n",
    "#初始设置\n",
    "side=np.array([10,10],dtype=int)     #屏幕尺寸（行列,YX）\n",
    "fps=int(2)                           #帧率(每秒移动格子数)\n",
    "length=int(2)                        #蛇长度（初始）\n",
    "direction=np.array([1,0],dtype=int)  #方向向量\n",
    "snake=np.array([np.ceil(side/2),np.ceil(side/2)-direction])   #蛇身体位置\n",
    "applelist=np.array([4,2],dtype=int)  #苹果可能出现的空间\n",
    "apple=applelist      #苹果位置"
   ]
  },
  {
   "cell_type": "code",
   "execution_count": 2,
   "id": "selected-occasions",
   "metadata": {},
   "outputs": [
    {
     "ename": "SyntaxError",
     "evalue": "unexpected EOF while parsing (<ipython-input-2-3711999744fa>, line 34)",
     "output_type": "error",
     "traceback": [
      "\u001b[1;36m  File \u001b[1;32m\"<ipython-input-2-3711999744fa>\"\u001b[1;36m, line \u001b[1;32m34\u001b[0m\n\u001b[1;33m    time.sleep((1/fps)\u001b[0m\n\u001b[1;37m                      ^\u001b[0m\n\u001b[1;31mSyntaxError\u001b[0m\u001b[1;31m:\u001b[0m unexpected EOF while parsing\n"
     ]
    }
   ],
   "source": [
    "while fps!=-1:     \n",
    "#键盘输入\n",
    "    if keyboard.is_pressed(\"s\") and all(direction != np.array([-1,0])):\n",
    "        direction=np.array([1,0])\n",
    "    elif keyboard.is_pressed(\"w\") and all(direction != np.array([1,0])):\n",
    "        direction=np.array([-1,0])\n",
    "    elif keyboard.is_pressed(\"d\") and all(direction != np.array([0,-1])):\n",
    "        direction=np.array([0,1])\n",
    "    elif keyboard.is_pressed(\"a\") and all(direction != np.array([0,1])):\n",
    "        direction=np.array([0,-1])\n",
    "#主程序\n",
    "    snake= np.vstack((snake[0]+direction,snake)).astype(np.int32)\n",
    "    if all(snake[0]==apple):\n",
    "        length=length+1\n",
    "        rdm=np.random.randint(0, np.shape(applelist)[1],dtype=int)\n",
    "        apple=np.array([applelist[0,rdm]+1,applelist[1,rdm]+1])\n",
    "    snake.resize(length,2)\n",
    "    screen=np.zeros(side)\n",
    "    if any(snake[0]>side) or any(snake[0]==0) or any((snake[1:]==snake[0]).all(1)):\n",
    "        fps=-1\n",
    "        print(\"fail\")\n",
    "    elif length==side[0]*side[1]-1:\n",
    "        fps=-1\n",
    "        print(\"success\")\n",
    "    else :\n",
    "        for i in range(0,length) :\n",
    "            screen[apple[0]-1,apple[1]-1]=8\n",
    "            screen[snake[i,0]-1,snake[i,1]-1]=1\n",
    "            applelist=np.array(np.where(screen==0))  \n",
    "        i = os.system('cls')\n",
    "        print(\"SCORE:%a   FPS:%a   Side:X%a * Y%a\"  %(length-2,fps,side[1],side[0]))\n",
    "        print((str(screen).replace(\"0\",\" \")).replace(\"8\",\"*\"))\n",
    "    #时间循环    \n",
    "        time.sleep(1/fps)"
   ]
  },
  {
   "cell_type": "code",
   "execution_count": null,
   "id": "physical-territory",
   "metadata": {},
   "outputs": [],
   "source": []
  }
 ],
 "metadata": {
  "kernelspec": {
   "display_name": "Python 3",
   "language": "python",
   "name": "python3"
  },
  "language_info": {
   "codemirror_mode": {
    "name": "ipython",
    "version": 3
   },
   "file_extension": ".py",
   "mimetype": "text/x-python",
   "name": "python",
   "nbconvert_exporter": "python",
   "pygments_lexer": "ipython3",
   "version": "3.8.5"
  }
 },
 "nbformat": 4,
 "nbformat_minor": 5
}
